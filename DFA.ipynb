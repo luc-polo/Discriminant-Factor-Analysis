{
 "cells": [
  {
   "cell_type": "code",
   "execution_count": 103,
   "metadata": {},
   "outputs": [
    {
     "name": "stdout",
     "output_type": "stream",
     "text": [
      "Total intra-class covariance matrix (W):\n",
      "          LCB       LSM         LBM      LP        LM         LAM\n",
      "LCB    0.939981  0.882055  0.299871  0.410150  0.548646  0.432191\n",
      "LSM    0.882055  0.896673  0.136196  0.392458  0.511276  0.390752\n",
      " LBM   0.299871  0.136196  0.960426  0.203936  0.211339  0.228455\n",
      "LP     0.410150  0.392458  0.203936  0.304173  0.311178  0.233331\n",
      "LM     0.548646  0.511276  0.211339  0.311178  0.512851  0.346395\n",
      "LAM    0.432191  0.390752  0.228455  0.233331  0.346395  0.597031\n",
      "\n",
      "\n",
      "\n",
      "Total inter-class covariance matrix (B):\n",
      "          LCB        LSM         LBM       LP         LM          LAM\n",
      "LCB    2.520813   3.307508  2.046919   8.583128   7.181678   6.531770\n",
      "LSM    3.307508   4.339716  2.685722  11.261752   9.422938   8.570206\n",
      " LBM   2.046919   2.685722  1.662114   6.969566   5.831578   5.303847\n",
      "LP     8.583128  11.261752  6.969566  29.224736  24.452933  22.240056\n",
      "LM     7.181678   9.422938  5.831578  24.452933  20.460268  18.608709\n",
      "LAM    6.531770   8.570206  5.303847  22.240056  18.608709  16.924707\n",
      "\n",
      "Total variance matrix (V):\n",
      "          LCB        LSM         LBM       LP         LM          LAM\n",
      "LCB    3.460793   4.189563  2.346790   8.993278   7.730325   6.963961\n",
      "LSM    4.189563   5.236390  2.821918  11.654210   9.934214   8.960958\n",
      " LBM   2.346790   2.821918  2.622540   7.173502   6.042917   5.532302\n",
      "LP     8.993278  11.654210  7.173502  29.528909  24.764111  22.473387\n",
      "LM     7.730325   9.934214  6.042917  24.764111  20.973118  18.955103\n",
      "LAM    6.963961   8.960958  5.532302  22.473387  18.955103  17.521738\n"
     ]
    }
   ],
   "source": [
    "import pandas as pd\n",
    "import numpy as np\n",
    "import matplotlib.pyplot as plt\n",
    "from sklearn.preprocessing import StandardScaler\n",
    "\n",
    "# Load the CSV file\n",
    "# Replace 'chienloup.csv' with the exact path to your file\n",
    "data = pd.read_csv('chienloup.csv', sep=';')\n",
    "\n",
    "# Extract quantitative and qualitative variables names\n",
    "quantitative_vars = data.columns[1:-1]  # Quantitative variables\n",
    "qualitative_var = data.columns[-1]     # Qualitative variable (e.g., category)\n",
    "\n",
    "\n",
    "# Group the data by the qualitative variable\n",
    "groups = data.groupby(qualitative_var)\n",
    "\n",
    "# Initialize a dictionary to store intra-class covariance matrices\n",
    "W_k_dict = {}\n",
    "\n",
    "W = np.zeros((len(quantitative_vars), len(quantitative_vars)))\n",
    "\n",
    "# Identify numerical columns\n",
    "numeric_cols = data.select_dtypes(include=['float64', 'int64']).columns\n",
    "\n",
    "# Apply StandardScaler to numerical columns\n",
    "scaler = StandardScaler()\n",
    "data[numeric_cols] = scaler.fit_transform(data[numeric_cols])\n",
    "\n",
    "# Compute W_k for each group as well as W\n",
    "for group_name, group in groups:\n",
    "    group_values = group[quantitative_vars].values\n",
    "    group_mean = np.mean(group_values, axis=0)\n",
    "    n_k = group_values.shape[0]  # Number of samples in the group\n",
    "    # Calculate W_k: intra-class covariance matrix\n",
    "    W_k = (group_values - group_mean).T @ (group_values - group_mean) / n_k\n",
    "    W_k_dict[group_name] = W_k  # Store each W_k with the corresponding group name\n",
    "    W += W_k * n_k\n",
    "\n",
    "W = W/data.shape[0]\n",
    "\n",
    "\n",
    "\n",
    "\n",
    "###(Bonus)############################################################################################################################\n",
    "# We compute and visualize the correlation matrix from the covariance matrix to interpret the values of the intra covariances\n",
    "#for group_name, W_k in W_k_dict.items():\n",
    "#    print(f\"Intra-class correlation matrix W_k for group '{group_name}':\")\n",
    "#    # Computation of the correlation matrix from the covariance matrix\n",
    "#    std_dev = np.sqrt(np.diag(W_k))  # Standard deviations\n",
    "#    correlation_matrix = W_k / np.outer(std_dev, std_dev)  # Normalize to get correlations\n",
    "#\n",
    "#    # Visualization of the correlation matrix\n",
    "#    plt.figure(figsize=(8, 6))\n",
    "#    plt.imshow(correlation_matrix, cmap=\"coolwarm\", vmin=-1, vmax=1)\n",
    "#    plt.colorbar(label=\"Correlation\")\n",
    "#    plt.xticks(ticks=range(len(quantitative_vars)), labels=quantitative_vars, rotation=45, ha=\"right\")\n",
    "#    plt.yticks(ticks=range(len(quantitative_vars)), labels=quantitative_vars)\n",
    "#    plt.title(\"Correlation Matrix Heatmap\")\n",
    "#    plt.tight_layout()\n",
    "#    plt.show()\n",
    "#\n",
    "####################################################################################################################################\n",
    "\n",
    "\n",
    "\n",
    "# Computation of inter-class covariance matrix (B), which measures variability between group means\n",
    "overall_mean = np.mean(data[quantitative_vars].values, axis=0)  # Overall mean vector\n",
    "B = np.zeros((len(quantitative_vars), len(quantitative_vars)))  # Initialize inter-class covariance matrix\n",
    "\n",
    "for name, group in groups:\n",
    "    group_size = len(group)  # Number of samples in the current group\n",
    "    group_mean = np.mean(group[quantitative_vars].values, axis=0)  # Mean vector of the group\n",
    "    diff = (group_mean - overall_mean).reshape(-1, 1)  # Difference vector reshaped as a column\n",
    "    B += group_size * (diff @ diff.T)  # Weighted outer product of the difference vector\n",
    "\n",
    "# Computation of total variance matrix (V) as the sum of intra-class (W) and inter-class (B) covariances\n",
    "V = W + B\n",
    "\n",
    "# Displaying intra-class (W), inter-class (B), and total variance (V) matrices\n",
    "print(f\"Total intra-class covariance matrix (W):\")\n",
    "print(pd.DataFrame(W, index=quantitative_vars, columns=quantitative_vars))\n",
    "print(\"\\n\")\n",
    "print(\"\\nTotal inter-class covariance matrix (B):\")\n",
    "print(pd.DataFrame(B, index=quantitative_vars, columns=quantitative_vars))\n",
    "print(\"\\nTotal variance matrix (V):\")\n",
    "print(pd.DataFrame(V, index=quantitative_vars, columns=quantitative_vars))"
   ]
  },
  {
   "cell_type": "markdown",
   "metadata": {},
   "source": [
    "Coumputation of V^-1.B and its eigen values"
   ]
  },
  {
   "cell_type": "code",
   "execution_count": 96,
   "metadata": {},
   "outputs": [
    {
     "name": "stdout",
     "output_type": "stream",
     "text": [
      "Trace of Inter-class covariance matrix (B): 333191.90952380927\n",
      "Trace of Total variance matrix (V): 432160.2126984125\n",
      "Proportion of variance explained by inter-class variability: 77.10%\n"
     ]
    }
   ],
   "source": [
    "# Compute the trace of B and V\n",
    "trace_B = np.trace(B)  # Sum of diagonal elements of B\n",
    "trace_V = np.trace(V)  # Sum of diagonal elements of V\n",
    "\n",
    "# Display the results\n",
    "print(f\"Trace of Inter-class covariance matrix (B): {trace_B}\")\n",
    "print(f\"Trace of Total variance matrix (V): {trace_V}\")\n",
    "\n",
    "# Compare the traces\n",
    "print(f\"Proportion of variance explained by inter-class variability: {trace_B / trace_V:.2%}\")"
   ]
  },
  {
   "cell_type": "markdown",
   "metadata": {},
   "source": [
    "Interpretation of V, W, B:\n",
    "The inter-class variance, which is the trace of B, accounts for 0.77% of the total variance. This shows that the original variables separate the classes' groups quite well."
   ]
  },
  {
   "cell_type": "markdown",
   "metadata": {},
   "source": [
    "Computation of V^-1 * B"
   ]
  },
  {
   "cell_type": "code",
   "execution_count": 97,
   "metadata": {},
   "outputs": [
    {
     "name": "stdout",
     "output_type": "stream",
     "text": [
      "Eigenvalues of V^-1 * B:\n",
      " [ 9.94925042e-01+0.00000000e+00j  2.27611276e-14+0.00000000e+00j\n",
      "  1.38879934e-14+0.00000000e+00j -7.47444178e-15+3.77105478e-15j\n",
      " -7.47444178e-15-3.77105478e-15j -1.41794016e-15+0.00000000e+00j]\n",
      "\n",
      "Sum of eigenvalues: (0.9949250416627787+0j)\n"
     ]
    }
   ],
   "source": [
    "# Compute V^-1 * B\n",
    "V_inv = np.linalg.inv(V)\n",
    "V_inv_B = V_inv @ B\n",
    "\n",
    "# Compute the eigenvalues of V^-1 * B\n",
    "eigenvalues, _ = np.linalg.eig(V_inv_B)\n",
    "\n",
    "# Display the eigenvalues and their sum\n",
    "print(\"Eigenvalues of V^-1 * B:\\n\", eigenvalues)\n",
    "print(\"\\nSum of eigenvalues:\", np.sum(eigenvalues))"
   ]
  },
  {
   "cell_type": "markdown",
   "metadata": {},
   "source": [
    "2) Etudiez les matrices V-1 et B : dimension, caractéristiques : Pouvez toujours diagonaliser directement 𝑉\n",
    "−1𝐵 ?"
   ]
  },
  {
   "cell_type": "code",
   "execution_count": null,
   "metadata": {},
   "outputs": [
    {
     "name": "stdout",
     "output_type": "stream",
     "text": [
      "Dimension of V^-1: (6, 6)\n",
      "Dimension of B: (6, 6)\n",
      "Dimension of V^-1 * B: (6, 6)\n",
      "Rank of V^-1 * B: 4\n",
      "Condition number of V^-1 * B: 9773931263870940.0\n"
     ]
    }
   ],
   "source": [
    "# Study the matrices\n",
    "print(\"Dimension of V^-1:\", V_inv.shape)\n",
    "print(\"Dimension of B:\", B.shape)\n",
    "\n",
    "\n",
    "# Study V^-1 * B\n",
    "print(\"Dimension of V^-1 * B:\", V_inv_B.shape)\n",
    "\n",
    "# Compute the rank of V^-1 * B\n",
    "rank_V_inv_B = np.linalg.matrix_rank(V_inv_B)\n",
    "\n",
    "# Compute the condition number (high values indicate collinearity)\n",
    "cond_number = np.linalg.cond(V_inv_B)\n",
    "\n",
    "\n",
    "# Display results\n",
    "print(\"Rank of V^-1 * B:\", rank_V_inv_B)\n",
    "print(\"Condition number of V^-1 * B:\", cond_number)\n"
   ]
  },
  {
   "cell_type": "markdown",
   "metadata": {},
   "source": [
    "Commentary on V-1.B diagonalisation"
   ]
  },
  {
   "cell_type": "code",
   "execution_count": 99,
   "metadata": {},
   "outputs": [],
   "source": [
    "# We observe that the rank computed for V^-1 * B is 4, while its size is 6x6. ()\n",
    "# This indicates that the collinearity between its columns is so high that the computer estimates it as a set of nearly collinear vectors.\n",
    "# This is further confirmed by the very high value of the condition number.\n",
    "\n",
    "# This indicates numerical instability, which suggests that the matrix is close to being non-invertible.\n",
    "\n",
    "# In conclusion, V^-1 * B is not always invertible due to high collinearity between its columns.\n",
    "# This is caused by the low rank of B, which determines the rank of V^-1 * B. \n",
    "# In this case, since the number of classes is q = 2, the rank of B is at most q-1 = 1.\n",
    "# The above computed value of 4 for V^-1.B rank is due to wrong approximation made by the computer of the eigen values that are = 0 but estimated as slightly higher."
   ]
  },
  {
   "cell_type": "markdown",
   "metadata": {},
   "source": [
    "3) Si vous choisissez de diagonalisation cette matrice, utiliser le complément sur la diagonalisation donnée en cours\n",
    "(technique de régularisation). Apres diagonalisation comme en ACP vous obtiendrez la projection des individus dans\n",
    "un nouvel espace par une méthode factorielle par projections."
   ]
  },
  {
   "cell_type": "code",
   "execution_count": 100,
   "metadata": {},
   "outputs": [
    {
     "name": "stdout",
     "output_type": "stream",
     "text": [
      "Eigenvalues of : [9.94925042e-01 3.95012658e-14 1.52139095e-14 8.80691405e-15\n",
      " 6.42928785e-16 1.39501568e-16]\n",
      "Transformed eigenvectors (v):\n",
      "          0             1             2             3             4  \\\n",
      "0  0.000322 -3.089727e-09  2.179188e-10  7.728942e-10  3.010178e-11   \n",
      "1 -0.000007  5.452425e-09 -6.730519e-10 -1.585857e-09  1.038420e-10   \n",
      "2  0.000148  1.624950e-09  3.818129e-11 -5.305035e-10  2.024900e-10   \n",
      "3 -0.006930 -1.464096e-08 -3.949594e-09 -3.276762e-09 -1.664707e-10   \n",
      "4 -0.001474  1.823370e-08  2.065761e-08  4.273595e-09 -7.792539e-10   \n",
      "5 -0.000866  3.823911e-09 -5.881198e-09  4.157703e-09  1.601900e-11   \n",
      "\n",
      "              5  \n",
      "0 -2.301619e-11  \n",
      "1 -3.184599e-11  \n",
      "2  1.051378e-10  \n",
      "3 -2.023918e-11  \n",
      "4  9.731309e-11  \n",
      "5  4.407285e-11  \n"
     ]
    }
   ],
   "source": [
    "\n",
    "\n",
    "# Step 1: Use SVD for decomposition of B into CC^T\n",
    "U, S, _ = np.linalg.svd(B)  # SVD of B\n",
    "C = U @ np.diag(np.sqrt(S))  # Construct C\n",
    "\n",
    "# Compute the matrix C'Σ^(-1)C\n",
    "C_T = C.T  # Transpose of C\n",
    "C_Sigma_inv_C_T = C_T @ V_inv @ C\n",
    "\n",
    "# Check if the matrix is symmetric (it should be)\n",
    "# print(\"Is C'Σ^(-1)C symmetric?:\", np.allclose(C_Sigma_inv_C_T, C_Sigma_inv_C_T.T))\n",
    "\n",
    "# Diagonalize the symmetric matrix C'Σ^(-1)C\n",
    "eigenvalues, eigenvectors = np.linalg.eigh(C_Sigma_inv_C_T)  # eigh ensures symmetric diagonalization\n",
    "\n",
    "# Compute the transformation vector v using equation \n",
    "v_vectors = V_inv @ C @ eigenvectors\n",
    "\n",
    "\n",
    "# Sort eigen values index scaling order\n",
    "sorted_indices = np.argsort(eigenvalues)[::-1]  # [::-1] pour inverser l'ordre (croissant -> décroissant)\n",
    "\n",
    "# Sort eigen values and eigen vectors in descending order\n",
    "sorted_eigenvalues = eigenvalues[sorted_indices]\n",
    "sorted_eigenvectors = v_vectors[:, sorted_indices]\n",
    "\n",
    "# Results\n",
    "print(\"Eigenvalues of :\", sorted_eigenvalues)\n",
    "\n",
    "print(\"Transformed eigenvectors (v):\")\n",
    "print(pd.DataFrame(sorted_eigenvectors))\n"
   ]
  },
  {
   "cell_type": "markdown",
   "metadata": {},
   "source": [
    "Projection of X onto the space spanned by eigen vectors explaining at least 80% of the variance"
   ]
  },
  {
   "cell_type": "code",
   "execution_count": 101,
   "metadata": {},
   "outputs": [
    {
     "name": "stdout",
     "output_type": "stream",
     "text": [
      "Number of components to explain 80% of variance: 1\n",
      "Cumulative explained variance: [1. 1. 1. 1. 1. 1.]\n",
      "[0 0 0 0 0 0 0 0 0 0 0 0 0 0 0 0 0 0 0 0 0 0 0 0 0 0 0 0 0 0 1 1 1 1 1 1 1\n",
      " 1 1 1 1 1]\n"
     ]
    },
    {
     "data": {
      "image/png": "[encoded data removed]",
      "text/plain": [
       "<Figure size 640x480 with 2 Axes>"
      ]
     },
     "metadata": {},
     "output_type": "display_data"
    }
   ],
   "source": [
    "# Step 2: Calculate the explained variance\n",
    "explained_variance_ratio = sorted_eigenvalues / np.sum(sorted_eigenvalues)  # Explained variance ratio\n",
    "cumulative_explained_variance = np.cumsum(explained_variance_ratio)  # Cumulative explained variance\n",
    "\n",
    "# Find the number of components needed to explain at least 80% of the variance\n",
    "n_components = np.argmax(cumulative_explained_variance >= 0.8) + 1\n",
    "\n",
    "print(f\"Number of components to explain 80% of variance: {n_components}\")\n",
    "print(\"Cumulative explained variance:\", cumulative_explained_variance)\n",
    "\n",
    "# Step 3: Select the top n_components eigenvectors\n",
    "selected_v_vectors = sorted_eigenvectors[:, :n_components]\n",
    "\n",
    "# Step 4: Project the data onto the selected eigenvectors\n",
    "Z = data[quantitative_vars] @ selected_v_vectors  \n",
    "\n",
    "# Step 5: Visualize the projection\n",
    "# Convert the qualitative variable to binary (one-hot encoding)\n",
    "binary_labels = data[qualitative_var].map({'CHIEN': 0, 'LOUP': 1}).values\n",
    "print(binary_labels)\n",
    "if Z.shape[1] == 1:\n",
    "    plt.scatter(Z, [0] * Z.shape[0], c=binary_labels, cmap='viridis', edgecolor='k')\n",
    "else:\n",
    "    plt.scatter(Z[:, 0], Z[:, 1], c= binary_labels, cmap='viridis', edgecolor='k') \n",
    "\n",
    "plt.title(\"Projection on top component(s) explaining >= 80% variance\")\n",
    "plt.xlabel(\"Component 1\")\n",
    "plt.ylabel(\"Component 2\")\n",
    "plt.colorbar(label=\"Class\")\n",
    "plt.grid()\n",
    "plt.show()"
   ]
  },
  {
   "cell_type": "markdown",
   "metadata": {},
   "source": [
    "Commentary of the projection on the new plan:"
   ]
  },
  {
   "cell_type": "code",
   "execution_count": 102,
   "metadata": {},
   "outputs": [],
   "source": [
    "# We can see that the component choosen to project the individuals very well splits the class groups. \n",
    "# For values > -1.25 all the individuals are dogs, and for values < -1.25 are Wolfs"
   ]
  }
 ],
 "metadata": {
  "kernelspec": {
   "display_name": ".venv",
   "language": "python",
   "name": "python3"
  },
  "language_info": {
   "codemirror_mode": {
    "name": "ipython",
    "version": 3
   },
   "file_extension": ".py",
   "mimetype": "text/x-python",
   "name": "python",
   "nbconvert_exporter": "python",
   "pygments_lexer": "ipython3",
   "version": "3.12.7"
  }
 },
 "nbformat": 4,
 "nbformat_minor": 2
}
